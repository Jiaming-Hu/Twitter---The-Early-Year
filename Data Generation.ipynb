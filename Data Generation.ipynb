{
 "cells": [
  {
   "cell_type": "markdown",
   "metadata": {},
   "source": [
    "# Generate Tweet"
   ]
  },
  {
   "cell_type": "code",
   "execution_count": 10,
   "metadata": {},
   "outputs": [],
   "source": [
    "import numpy as np\n",
    "import pandas as pd\n",
    "import string\n",
    "import random\n",
    "import time\n",
    "import csv"
   ]
  },
  {
   "cell_type": "code",
   "execution_count": 11,
   "metadata": {},
   "outputs": [],
   "source": [
    "# define start and end timestamp\n",
    "start = pd.to_datetime('2021-01-01')\n",
    "end = pd.to_datetime('2021-01-31')\n",
    "\n",
    "# randomly generates the timestamp\n",
    "def random_dates(start, end):\n",
    "\n",
    "    start_time = start.value // 10**9\n",
    "    end_time = end.value // 10 ** 9\n",
    "\n",
    "    return pd.to_datetime(np.random.randint(start_time, end_time), unit = 's')"
   ]
  },
  {
   "cell_type": "code",
   "execution_count": 12,
   "metadata": {},
   "outputs": [],
   "source": [
    "# define allowed characters that can be used in the tweet text\n",
    "allowed_chars = string.ascii_letters + string.punctuation\n",
    "\n",
    "# randomly generate tweet text\n",
    "def random_string_generator(allowed_chars):\n",
    "    # tweet char length no more than 140\n",
    "    string_size = random.randint(1, 140)\n",
    "    return ''.join(random.choice(allowed_chars) for x in range(string_size))"
   ]
  },
  {
   "cell_type": "code",
   "execution_count": 15,
   "metadata": {},
   "outputs": [],
   "source": [
    "# generate one tweet\n",
    "def tweet_generator():\n",
    "    \n",
    "    tweet_id = random.randint(10001, 20000)\n",
    "    # maximum 10000 users\n",
    "    user_id = random.randint(100001, 101000)\n",
    "    tweet_ts = random_dates(start, end)\n",
    "    tweet_text = random_string_generator(allowed_chars)\n",
    "    \n",
    "    return [tweet_id, user_id, tweet_ts, tweet_text]\n",
    "        "
   ]
  },
  {
   "cell_type": "code",
   "execution_count": 16,
   "metadata": {},
   "outputs": [],
   "source": [
    "# generate n tweets to the file with given file_name\n",
    "def generate_tweet(n, file_name):\n",
    "    # the file we want to write the tweets to\n",
    "    with open(file_name, 'w') as tweet_file:\n",
    "        writer = csv.writer(tweet_file, delimiter='\\t',lineterminator='\\n',)\n",
    "        writer.writerow([\"index\", \"tweet_id\", \"user_id\", \"tweet_ts\", \"tweet_text\"] )\n",
    "        # the start time for writing\n",
    "        start_time = time.time()\n",
    "    \n",
    "        for i in range(n):\n",
    "            row = [i + 1] + tweet_generator()\n",
    "            writer.writerow(row)\n",
    "        \n",
    "        \n",
    "    tweet_file.close()    \n",
    "    \n",
    "    print('Time used to generate', n, 'tweets:', time.time() - start_time, 'seconds.')\n",
    "        "
   ]
  },
  {
   "cell_type": "code",
   "execution_count": 17,
   "metadata": {},
   "outputs": [
    {
     "name": "stdout",
     "output_type": "stream",
     "text": [
      "Time used to generate 10000 tweets: 4.321894884109497 seconds.\n"
     ]
    }
   ],
   "source": [
    "generate_tweet(10000, 'tweet.csv')"
   ]
  },
  {
   "cell_type": "markdown",
   "metadata": {},
   "source": [
    "# Generate Follows"
   ]
  },
  {
   "cell_type": "code",
   "execution_count": 18,
   "metadata": {},
   "outputs": [
    {
     "name": "stdout",
     "output_type": "stream",
     "text": [
      "1000\n"
     ]
    }
   ],
   "source": [
    "# read in all the tweets generated before\n",
    "data_df = pd.read_csv(\"tweet.csv\", sep = \"\\t\")\n",
    "\n",
    "# get all the user id\n",
    "list_user_id = data_df[\"user_id\"].unique()\n",
    "\n",
    "print(len(list_user_id))"
   ]
  },
  {
   "cell_type": "code",
   "execution_count": 19,
   "metadata": {},
   "outputs": [],
   "source": [
    "# From the output above, there are 946614 distinct tweets users\n",
    "\n",
    "# Followers generation algorithm:\n",
    "\n",
    "# For the first 1000 users : each follows 100 users\n",
    "# For the 1001 to 2000 : each follows 1000 users\n",
    "# For the 2001 to 3000 : each follows 10000 users\n",
    "# For the rest of the users : each follows 10 users"
   ]
  },
  {
   "cell_type": "code",
   "execution_count": 20,
   "metadata": {},
   "outputs": [],
   "source": [
    "# generate one follow relationship\n",
    "def follower_generator(user_index):\n",
    "    \n",
    "    user_id = list_user_id[user_index]\n",
    "    random_follows_index = random.randint(0, len(list_user_id) - 1)\n",
    "    follows_id = list_user_id[random_follows_index]\n",
    "    \n",
    "    return [user_id, follows_id]"
   ]
  },
  {
   "cell_type": "code",
   "execution_count": 21,
   "metadata": {},
   "outputs": [],
   "source": [
    "# generate n follower to the file with given file_name\n",
    "def generate_follower(n, file_name):\n",
    "    # the file we want to write the tweets to\n",
    "    with open(file_name, 'w') as follower_file:\n",
    "        writer = csv.writer(follower_file, delimiter='\\t',lineterminator='\\n',)\n",
    "        writer.writerow([\"index\", \"user_id\", \"follows_id\"])\n",
    "        \n",
    "        # the start time for writing\n",
    "        start_time = time.time()\n",
    "\n",
    "        i = 0\n",
    "        index = 0\n",
    "        while i < n:\n",
    "            j = 0\n",
    "            # For the first 1000 users : each follows 100 users\n",
    "            if i in range(0, 100):\n",
    "                while j in range(10):\n",
    "                    row = [index + 1] + follower_generator(i)\n",
    "                    writer.writerow(row)\n",
    "                    j += 1\n",
    "                    index += 1\n",
    "                i += 1 \n",
    "                \n",
    "            # For the 1001 to 2000 : each follows 300 users    \n",
    "            elif i in range(100, 200):\n",
    "                while j in range(30):\n",
    "                    row = [index + 1] + follower_generator(i)\n",
    "                    writer.writerow(row)\n",
    "                    j += 1\n",
    "                    index += 1\n",
    "                i += 1    \n",
    "                \n",
    "            # For the 2001 to 3000 : each follows 500 users        \n",
    "            elif i in range(200, 300):\n",
    "                while j in range(50):\n",
    "                    row = [index + 1] + follower_generator(i)\n",
    "                    writer.writerow(row)\n",
    "                    j += 1\n",
    "                    index += 1\n",
    "                i += 1 \n",
    "                \n",
    "            # For the rest of the users : each follows 10 users    \n",
    "            else:\n",
    "                while j in range(1):\n",
    "                    row = [index + 1] + follower_generator(i)\n",
    "                    writer.writerow(row)\n",
    "                    j += 1\n",
    "                    index += 1\n",
    "                i += 1\n",
    "                \n",
    "            \n",
    "    follower_file.close()    \n",
    "    \n",
    "    print('Time used to generate', index, 'followers:', time.time() - start_time, 'seconds.')        "
   ]
  },
  {
   "cell_type": "code",
   "execution_count": 22,
   "metadata": {},
   "outputs": [
    {
     "name": "stdout",
     "output_type": "stream",
     "text": [
      "Time used to generate 9700 followers: 0.06743717193603516 seconds.\n"
     ]
    }
   ],
   "source": [
    "generate_follower(len(list_user_id), 'follower.csv')"
   ]
  },
  {
   "cell_type": "code",
   "execution_count": 23,
   "metadata": {},
   "outputs": [
    {
     "data": {
      "text/plain": [
       "True"
      ]
     },
     "execution_count": 23,
     "metadata": {},
     "output_type": "execute_result"
    }
   ],
   "source": [
    "# check number of followers correct\n",
    "1000 * 100 + 1000 * 300 + 1000 * 500 + 7000 * 10 == 970000"
   ]
  },
  {
   "cell_type": "code",
   "execution_count": 9,
   "metadata": {},
   "outputs": [
    {
     "data": {
      "text/plain": [
       "[Timestamp('2021-01-30 22:03:52'),\n",
       " Timestamp('2021-01-20 18:03:35'),\n",
       " Timestamp('2021-01-14 21:23:29'),\n",
       " Timestamp('2021-01-14 10:25:22'),\n",
       " Timestamp('2021-01-12 01:39:21'),\n",
       " Timestamp('2021-01-09 17:53:24'),\n",
       " Timestamp('2021-01-06 15:52:36'),\n",
       " Timestamp('2021-01-06 11:52:28'),\n",
       " Timestamp('2021-01-01 08:32:16'),\n",
       " Timestamp('2021-01-01 08:29:38')]"
      ]
     },
     "execution_count": 9,
     "metadata": {},
     "output_type": "execute_result"
    }
   ],
   "source": [
    "time_l = []\n",
    "for i in range(0, 10):\n",
    "    time_l.append(random_dates(start, end))\n",
    "\n",
    "time_l.sort(reverse = True)\n",
    "time_l"
   ]
  },
  {
   "cell_type": "code",
   "execution_count": 1,
   "metadata": {},
   "outputs": [
    {
     "data": {
      "text/plain": [
       "[1, 2, 3, 1, 2]"
      ]
     },
     "execution_count": 1,
     "metadata": {},
     "output_type": "execute_result"
    }
   ],
   "source": []
  },
  {
   "cell_type": "code",
   "execution_count": 2,
   "metadata": {},
   "outputs": [
    {
     "data": {
      "text/plain": [
       "[1, 1, 1, 1, 1, 1, 1, 1, 1, 1]"
      ]
     },
     "execution_count": 2,
     "metadata": {},
     "output_type": "execute_result"
    }
   ],
   "source": []
  },
  {
   "cell_type": "code",
   "execution_count": null,
   "metadata": {},
   "outputs": [],
   "source": []
  }
 ],
 "metadata": {
  "kernelspec": {
   "display_name": "Python 3",
   "language": "python",
   "name": "python3"
  },
  "language_info": {
   "codemirror_mode": {
    "name": "ipython",
    "version": 3
   },
   "file_extension": ".py",
   "mimetype": "text/x-python",
   "name": "python",
   "nbconvert_exporter": "python",
   "pygments_lexer": "ipython3",
   "version": "3.7.4"
  }
 },
 "nbformat": 4,
 "nbformat_minor": 2
}
