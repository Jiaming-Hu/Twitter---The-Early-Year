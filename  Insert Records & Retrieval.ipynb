{
 "cells": [
  {
   "cell_type": "code",
   "execution_count": 1,
   "metadata": {},
   "outputs": [],
   "source": [
    "import pymysql\n",
    "import pandas as pd\n",
    "import time"
   ]
  },
  {
   "cell_type": "code",
   "execution_count": 2,
   "metadata": {},
   "outputs": [],
   "source": [
    "# create conneciton with the database\n",
    "def create_connection(h, u, pw, db):\n",
    "    connection = pymysql.connect(host = h,\n",
    "                                 user = u,\n",
    "                                 password = pw,\n",
    "                                 database = db,\n",
    "                                 charset='utf8mb4',\n",
    "                                 cursorclass=pymysql.cursors.DictCursor)\n",
    "    return connection"
   ]
  },
  {
   "cell_type": "markdown",
   "metadata": {},
   "source": [
    "# Insert tweets "
   ]
  },
  {
   "cell_type": "code",
   "execution_count": 3,
   "metadata": {},
   "outputs": [
    {
     "data": {
      "text/html": [
       "<div>\n",
       "<style scoped>\n",
       "    .dataframe tbody tr th:only-of-type {\n",
       "        vertical-align: middle;\n",
       "    }\n",
       "\n",
       "    .dataframe tbody tr th {\n",
       "        vertical-align: top;\n",
       "    }\n",
       "\n",
       "    .dataframe thead th {\n",
       "        text-align: right;\n",
       "    }\n",
       "</style>\n",
       "<table border=\"1\" class=\"dataframe\">\n",
       "  <thead>\n",
       "    <tr style=\"text-align: right;\">\n",
       "      <th></th>\n",
       "      <th>tweet_id</th>\n",
       "      <th>user_id</th>\n",
       "      <th>tweet_ts</th>\n",
       "      <th>tweet_text</th>\n",
       "    </tr>\n",
       "    <tr>\n",
       "      <th>index</th>\n",
       "      <th></th>\n",
       "      <th></th>\n",
       "      <th></th>\n",
       "      <th></th>\n",
       "    </tr>\n",
       "  </thead>\n",
       "  <tbody>\n",
       "    <tr>\n",
       "      <td>1</td>\n",
       "      <td>3021907</td>\n",
       "      <td>1003874</td>\n",
       "      <td>2021-01-19 10:48:17</td>\n",
       "      <td>%d~&amp;$[MU)&amp;DOU%eCc_Gu*?q(X@vVb%NaPk)YrP-(GY%S&gt;U...</td>\n",
       "    </tr>\n",
       "    <tr>\n",
       "      <td>2</td>\n",
       "      <td>4138357</td>\n",
       "      <td>1008782</td>\n",
       "      <td>2021-01-11 04:34:05</td>\n",
       "      <td>dSxBkJfXs$P;fNZ[(KLGFJ\"c!s|^o$rInI':h^~t@]NeB*...</td>\n",
       "    </tr>\n",
       "    <tr>\n",
       "      <td>3</td>\n",
       "      <td>7827189</td>\n",
       "      <td>1001835</td>\n",
       "      <td>2021-01-21 23:03:27</td>\n",
       "      <td>vG:bJcepa&gt;-f?}kSum%hZu!w{+I[M{]UBwqLDh/)XtAmRl...</td>\n",
       "    </tr>\n",
       "    <tr>\n",
       "      <td>4</td>\n",
       "      <td>5163060</td>\n",
       "      <td>1005198</td>\n",
       "      <td>2021-01-12 04:11:05</td>\n",
       "      <td>i!.A/X,Xo|IwM-z^'H!m@)'+\\U{=Py|_x#\\iTcO)!%ztO{...</td>\n",
       "    </tr>\n",
       "    <tr>\n",
       "      <td>5</td>\n",
       "      <td>4575657</td>\n",
       "      <td>1003600</td>\n",
       "      <td>2021-01-15 21:47:34</td>\n",
       "      <td>bFvaxjmuaG+~r#?|ETPYX\"{@|GaXRLP?l^/;cj$T/k'KmM...</td>\n",
       "    </tr>\n",
       "  </tbody>\n",
       "</table>\n",
       "</div>"
      ],
      "text/plain": [
       "       tweet_id  user_id             tweet_ts  \\\n",
       "index                                           \n",
       "1       3021907  1003874  2021-01-19 10:48:17   \n",
       "2       4138357  1008782  2021-01-11 04:34:05   \n",
       "3       7827189  1001835  2021-01-21 23:03:27   \n",
       "4       5163060  1005198  2021-01-12 04:11:05   \n",
       "5       4575657  1003600  2021-01-15 21:47:34   \n",
       "\n",
       "                                              tweet_text  \n",
       "index                                                     \n",
       "1      %d~&$[MU)&DOU%eCc_Gu*?q(X@vVb%NaPk)YrP-(GY%S>U...  \n",
       "2      dSxBkJfXs$P;fNZ[(KLGFJ\"c!s|^o$rInI':h^~t@]NeB*...  \n",
       "3      vG:bJcepa>-f?}kSum%hZu!w{+I[M{]UBwqLDh/)XtAmRl...  \n",
       "4      i!.A/X,Xo|IwM-z^'H!m@)'+\\U{=Py|_x#\\iTcO)!%ztO{...  \n",
       "5      bFvaxjmuaG+~r#?|ETPYX\"{@|GaXRLP?l^/;cj$T/k'KmM...  "
      ]
     },
     "execution_count": 3,
     "metadata": {},
     "output_type": "execute_result"
    }
   ],
   "source": [
    "# read the tweets from the file \n",
    "tweet_df = pd.read_csv(\"tweet.csv\", sep = \"\\t\").set_index(\"index\")\n",
    "tweet_df.head(5)"
   ]
  },
  {
   "cell_type": "code",
   "execution_count": 4,
   "metadata": {},
   "outputs": [],
   "source": [
    "# prepare the query to insert the record\n",
    "sql = \"INSERT INTO `tweets` (tweet_id, user_id, tweet_ts, tweet_text) VALUES (%s, %s, %s, %s)\"\n",
    "\n",
    "# insert one record at a time\n",
    "def insert_one_tweet(values, cursor):\n",
    "    cursor.execute(sql, tuple(values))    "
   ]
  },
  {
   "cell_type": "code",
   "execution_count": 5,
   "metadata": {},
   "outputs": [],
   "source": [
    "# number of the row\n",
    "row_num = len(tweet_df.index)\n",
    "\n",
    "def insert_all_tweets(row_num):\n",
    "    \n",
    "    connection = create_connection(\"localhost\", \"root\", \"Hjm123456\", \"twitter\")\n",
    "    # create a cursor object\n",
    "    cursor = connection.cursor()\n",
    "    \n",
    "    # the start time of inserting the tweet\n",
    "    start_time = time.time()\n",
    "        \n",
    "    for i in range(row_num):\n",
    "        row = [str(item) for item in list(tweet_df.iloc[i])]\n",
    "        \n",
    "        try: # insert one record\n",
    "            insert_one_tweet(row, cursor)\n",
    "        except:\n",
    "            connection.rollback()\n",
    "            \n",
    "    # the end time of inserting the tweet        \n",
    "    end_time = time.time()       \n",
    "        \n",
    "    # commit update    \n",
    "    connection.commit()\n",
    "    connection.close()\n",
    "        \n",
    "    print('Time used to insert', row_num, 'tweets:', end_time - start_time, 'seconds.')"
   ]
  },
  {
   "cell_type": "code",
   "execution_count": 6,
   "metadata": {},
   "outputs": [
    {
     "name": "stdout",
     "output_type": "stream",
     "text": [
      "Time used to insert 1000000 tweets: 397.83448791503906 seconds.\n"
     ]
    }
   ],
   "source": [
    "insert_all_tweets(row_num)"
   ]
  },
  {
   "cell_type": "markdown",
   "metadata": {},
   "source": [
    "# Insert Followers"
   ]
  },
  {
   "cell_type": "code",
   "execution_count": 7,
   "metadata": {},
   "outputs": [
    {
     "data": {
      "text/html": [
       "<div>\n",
       "<style scoped>\n",
       "    .dataframe tbody tr th:only-of-type {\n",
       "        vertical-align: middle;\n",
       "    }\n",
       "\n",
       "    .dataframe tbody tr th {\n",
       "        vertical-align: top;\n",
       "    }\n",
       "\n",
       "    .dataframe thead th {\n",
       "        text-align: right;\n",
       "    }\n",
       "</style>\n",
       "<table border=\"1\" class=\"dataframe\">\n",
       "  <thead>\n",
       "    <tr style=\"text-align: right;\">\n",
       "      <th></th>\n",
       "      <th>user_id</th>\n",
       "      <th>follows_id</th>\n",
       "    </tr>\n",
       "    <tr>\n",
       "      <th>index</th>\n",
       "      <th></th>\n",
       "      <th></th>\n",
       "    </tr>\n",
       "  </thead>\n",
       "  <tbody>\n",
       "    <tr>\n",
       "      <td>1</td>\n",
       "      <td>1003874</td>\n",
       "      <td>1002776</td>\n",
       "    </tr>\n",
       "    <tr>\n",
       "      <td>2</td>\n",
       "      <td>1003874</td>\n",
       "      <td>1007457</td>\n",
       "    </tr>\n",
       "    <tr>\n",
       "      <td>3</td>\n",
       "      <td>1003874</td>\n",
       "      <td>1008323</td>\n",
       "    </tr>\n",
       "    <tr>\n",
       "      <td>4</td>\n",
       "      <td>1003874</td>\n",
       "      <td>1005300</td>\n",
       "    </tr>\n",
       "    <tr>\n",
       "      <td>5</td>\n",
       "      <td>1003874</td>\n",
       "      <td>1003598</td>\n",
       "    </tr>\n",
       "  </tbody>\n",
       "</table>\n",
       "</div>"
      ],
      "text/plain": [
       "       user_id  follows_id\n",
       "index                     \n",
       "1      1003874     1002776\n",
       "2      1003874     1007457\n",
       "3      1003874     1008323\n",
       "4      1003874     1005300\n",
       "5      1003874     1003598"
      ]
     },
     "execution_count": 7,
     "metadata": {},
     "output_type": "execute_result"
    }
   ],
   "source": [
    "# read the followers from the file \n",
    "follower_df = pd.read_csv(\"follower.csv\", sep = \"\\t\").set_index(\"index\")\n",
    "follower_df.head(5)"
   ]
  },
  {
   "cell_type": "code",
   "execution_count": 8,
   "metadata": {},
   "outputs": [],
   "source": [
    "# prepare the query to insert the record\n",
    "sql = \"INSERT INTO `followers` (user_id, follows_id) VALUES (%s, %s)\"\n",
    "\n",
    "# insert one record at a time\n",
    "def insert_one_follower(values, cursor):\n",
    "    cursor.execute(sql, tuple(values))"
   ]
  },
  {
   "cell_type": "code",
   "execution_count": 9,
   "metadata": {},
   "outputs": [],
   "source": [
    "# number of the row\n",
    "row_num = len(follower_df.index)\n",
    "\n",
    "def insert_all_followers(row_num):\n",
    "    \n",
    "    connection = create_connection(\"localhost\", \"root\", \"Hjm123456\", \"twitter\")\n",
    "    # create a cursor object\n",
    "    cursor = connection.cursor()\n",
    "    \n",
    "    # the start time of inserting the tweet\n",
    "    start_time = time.time()\n",
    "        \n",
    "    j = 0    \n",
    "    for i in range(row_num):\n",
    "        row = [str(item) for item in list(follower_df.iloc[i])]\n",
    "        \n",
    "        try: # insert one record\n",
    "            insert_one_follower(row, cursor)\n",
    "            \n",
    "        except:\n",
    "            connection.rollback()\n",
    "\n",
    "            \n",
    "    # the end time of inserting the tweet        \n",
    "    end_time = time.time()       \n",
    "        \n",
    "    # commit update    \n",
    "    connection.commit()\n",
    "    connection.close()\n",
    "        \n",
    "    print('Time used to insert', row_num, 'followers:', end_time - start_time, 'seconds.')"
   ]
  },
  {
   "cell_type": "code",
   "execution_count": 10,
   "metadata": {},
   "outputs": [
    {
     "name": "stdout",
     "output_type": "stream",
     "text": [
      "Time used to insert 970000 followers: 398.10966992378235 seconds.\n"
     ]
    }
   ],
   "source": [
    "insert_all_followers(row_num)"
   ]
  },
  {
   "cell_type": "markdown",
   "metadata": {},
   "source": [
    "# Get Timeline"
   ]
  },
  {
   "cell_type": "code",
   "execution_count": 60,
   "metadata": {},
   "outputs": [],
   "source": [
    "import random\n",
    "\n",
    "# get num_timeline timelines, with or without tweet_text for n users\n",
    "def get_random_timeline(n, bol, num_timeline):\n",
    "    \n",
    "    connection = create_connection(\"localhost\", \"root\", \"Hjm123456\", \"twitter\")\n",
    "    # create a cursor object\n",
    "    cursor = connection.cursor()\n",
    "    \n",
    "    sql_start_with_text = '''SELECT \n",
    "                             tweet_id, tweet_ts, tweet_text \n",
    "                             FROM tweets \n",
    "                             WHERE tweets.user_id IN\n",
    "                             (    SELECT follows_id\n",
    "                             FROM followers\n",
    "                          '''\n",
    "    \n",
    "    sql_start_without_text = '''SELECT \n",
    "                                tweet_id, tweet_ts \n",
    "                                FROM tweets \n",
    "                                WHERE tweets.user_id IN\n",
    "                                (    SELECT follows_id\n",
    "                                FROM followers\n",
    "                             '''\n",
    "    \n",
    "    \n",
    "    sql_end = '''  ) \n",
    "                   ORDER BY tweet_ts DESC\n",
    "                   LIMIT \n",
    "              ''' + str(num_timeline)\n",
    "    \n",
    "    total_time = 0\n",
    "    \n",
    "    for i in range (n):\n",
    "        \n",
    "        # randomly pick a user\n",
    "        random_user_id = random.randint(1000001, 1010000)\n",
    "        if bol: # select with tweet_text\n",
    "            sql = sql_start_with_text + \"WHERE user_id = \" + str(random_user_id) + sql_end\n",
    "        else: # select without tweet_text\n",
    "            sql = sql_start_without_text + \"WHERE user_id = \" + str(random_user_id) + sql_end\n",
    "    \n",
    "        start_time = time.time()\n",
    "        cursor.execute(sql)\n",
    "        end_time = time.time()\n",
    "        \n",
    "        total_time += (end_time - start_time)\n",
    "    \n",
    "    print(\"Time used to get\", n, \"random users' timeline:\", total_time, \"seconds\")\n",
    "    print(\"The average time to get one random user's timeline is\", round(total_time / n, 5), \"seconds\")"
   ]
  },
  {
   "cell_type": "code",
   "execution_count": 62,
   "metadata": {},
   "outputs": [],
   "source": [
    "num_user_list = [1, 10, 30, 50]"
   ]
  },
  {
   "cell_type": "code",
   "execution_count": 55,
   "metadata": {},
   "outputs": [
    {
     "name": "stdout",
     "output_type": "stream",
     "text": [
      "Time used to get 1 random users' timeline: 0.3390007019042969 seconds\n",
      "The average time to get one random user's timeline is 0.339 seconds\n",
      "Time used to get 10 random users' timeline: 3.248065233230591 seconds\n",
      "The average time to get one random user's timeline is 0.32481 seconds\n",
      "Time used to get 30 random users' timeline: 9.603729724884033 seconds\n",
      "The average time to get one random user's timeline is 0.32012 seconds\n",
      "Time used to get 50 random users' timeline: 16.310139417648315 seconds\n",
      "The average time to get one random user's timeline is 0.3262 seconds\n"
     ]
    }
   ],
   "source": [
    "# Only retrieve tweet_id and tweet_ts (10 most recent)\n",
    "for num in num_user_list:\n",
    "    get_random_timeline(num, False, 10)"
   ]
  },
  {
   "cell_type": "code",
   "execution_count": 57,
   "metadata": {},
   "outputs": [
    {
     "name": "stdout",
     "output_type": "stream",
     "text": [
      "Time used to get 1 random users' timeline: 0.3545668125152588 seconds\n",
      "The average time to get one random user's timeline is 0.35457 seconds\n",
      "Time used to get 10 random users' timeline: 3.3163557052612305 seconds\n",
      "The average time to get one random user's timeline is 0.33164 seconds\n",
      "Time used to get 30 random users' timeline: 9.645811319351196 seconds\n",
      "The average time to get one random user's timeline is 0.32153 seconds\n",
      "Time used to get 50 random users' timeline: 16.285800457000732 seconds\n",
      "The average time to get one random user's timeline is 0.32572 seconds\n"
     ]
    }
   ],
   "source": [
    "# Retrieve tweet_id, tweet_ts, and tweet_text (10 most recent)\n",
    "for num in num_user_list:\n",
    "    get_random_timeline(num, True, 10)"
   ]
  },
  {
   "cell_type": "code",
   "execution_count": 67,
   "metadata": {},
   "outputs": [
    {
     "name": "stdout",
     "output_type": "stream",
     "text": [
      "Time used to get 1 random users' timeline: 0.3271350860595703 seconds\n",
      "The average time to get one random user's timeline is 0.32714 seconds\n",
      "Time used to get 10 random users' timeline: 3.3278422355651855 seconds\n",
      "The average time to get one random user's timeline is 0.33278 seconds\n",
      "Time used to get 30 random users' timeline: 10.189840316772461 seconds\n",
      "The average time to get one random user's timeline is 0.33966 seconds\n",
      "Time used to get 50 random users' timeline: 16.799941301345825 seconds\n",
      "The average time to get one random user's timeline is 0.336 seconds\n"
     ]
    }
   ],
   "source": [
    "# Only retrieve tweet_id and tweet_ts (20 most recent)\n",
    "for num in num_user_list:\n",
    "    get_random_timeline(num, False, 20)"
   ]
  },
  {
   "cell_type": "code",
   "execution_count": 68,
   "metadata": {},
   "outputs": [
    {
     "name": "stdout",
     "output_type": "stream",
     "text": [
      "Time used to get 1 random users' timeline: 0.37426090240478516 seconds\n",
      "The average time to get one random user's timeline is 0.37426 seconds\n",
      "Time used to get 10 random users' timeline: 3.539879560470581 seconds\n",
      "The average time to get one random user's timeline is 0.35399 seconds\n",
      "Time used to get 30 random users' timeline: 10.786177396774292 seconds\n",
      "The average time to get one random user's timeline is 0.35954 seconds\n",
      "Time used to get 50 random users' timeline: 17.027554512023926 seconds\n",
      "The average time to get one random user's timeline is 0.34055 seconds\n"
     ]
    }
   ],
   "source": [
    "# Retrieve tweet_id, tweet_ts, and tweet_text (20 most recent)\n",
    "for num in num_user_list:\n",
    "    get_random_timeline(num, True, 20)"
   ]
  },
  {
   "cell_type": "code",
   "execution_count": null,
   "metadata": {},
   "outputs": [],
   "source": []
  }
 ],
 "metadata": {
  "kernelspec": {
   "display_name": "Python 3",
   "language": "python",
   "name": "python3"
  },
  "language_info": {
   "codemirror_mode": {
    "name": "ipython",
    "version": 3
   },
   "file_extension": ".py",
   "mimetype": "text/x-python",
   "name": "python",
   "nbconvert_exporter": "python",
   "pygments_lexer": "ipython3",
   "version": "3.7.4"
  }
 },
 "nbformat": 4,
 "nbformat_minor": 2
}
